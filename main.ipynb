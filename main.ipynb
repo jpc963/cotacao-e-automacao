{
 "cells": [
  {
   "cell_type": "code",
   "execution_count": null,
   "metadata": {
    "collapsed": false
   },
   "outputs": [],
   "source": [
    "from selenium import webdriver\n",
    "from selenium.webdriver.chrome.options import Options\n",
    "import pandas as pd"
   ]
  },
  {
   "cell_type": "code",
   "execution_count": null,
   "metadata": {
    "collapsed": false
   },
   "outputs": [],
   "source": [
    "# inicializa o programa sem aparecer na tela, em segundo plano\n",
    "chrome_options = Options()\n",
    "chrome_options.headless = True\n",
    "navegador = webdriver.Chrome(options=chrome_options)\n",
    "\n",
    "# passo 1: pegar a cotação das moedas\n",
    "# dolar\n",
    "navegador.get('https://www.google.com/search?q=cotacao+dolar&oq=cotacao+dolar&aqs=chrome..69i57j35i39j0i512l3j0i433i512j0i512l4.1498j0j9&sourceid=chrome&ie=UTF-8')\n",
    "cot_dolar = navegador.find_element('xpath', '//*[@id=\"knowledge-currency__updatable-data-column\"]/div[1]/div[2]/span[1]').get_attribute('data-value')\n",
    "\n",
    "# euro\n",
    "navegador.get('https://www.google.com/search?q=cotacao+euro&oq=cotacao+euro&aqs=chrome..69i57j0i512l4j0i10i512j0i512l4.1450j0j7&sourceid=chrome&ie=UTF-8')\n",
    "cot_euro = navegador.find_element('xpath', '//*[@id=\"knowledge-currency__updatable-data-column\"]/div[1]/div[2]/span[1]').get_attribute('data-value')\n",
    "\n",
    "# ouro\n",
    "navegador.get('https://www.melhorcambio.com/ouro-hoje#:~:text=O%20valor%20do%20grama%20do,em%20R%24%20314%2C92.')\n",
    "cot_ouro = navegador.find_element('xpath', '//*[@id=\"comercial\"]').get_attribute('value')\n",
    "cot_ouro = cot_ouro.replace(',', '.')\n",
    "\n",
    "navegador.quit()\n",
    "\n",
    "print('Dólar: R$' + cot_dolar)\n",
    "print('Euro: R$' + cot_euro)\n",
    "print('Ouro: R$' + cot_ouro)"
   ]
  },
  {
   "cell_type": "code",
   "execution_count": null,
   "metadata": {
    "collapsed": false
   },
   "outputs": [],
   "source": [
    "# passo 2: importar e atualizar a base de dados\n",
    "df = pd.read_excel('Produtos.xlsx')\n",
    "\n",
    "df"
   ]
  },
  {
   "cell_type": "code",
   "execution_count": null,
   "metadata": {
    "collapsed": false
   },
   "outputs": [],
   "source": [
    "# atualizar a cotação das moedas no dataframe\n",
    "df.loc[df['Moeda'] == 'Dólar', 'Cotação'] = float(cot_dolar)    # loc[linha, coluna]\n",
    "df.loc[df['Moeda'] == 'Euro', 'Cotação'] = float(cot_euro)\n",
    "df.loc[df['Moeda'] == 'Ouro', 'Cotação'] = float(cot_ouro)\n",
    "\n",
    "df"
   ]
  },
  {
   "cell_type": "code",
   "execution_count": null,
   "metadata": {
    "collapsed": false
   },
   "outputs": [],
   "source": [
    "# atualizar o preço de compra e preço de venda\n",
    "df['Preço de Compra'] = df['Preço Original'] * df['Cotação']\n",
    "df['Preço de Venda'] = df['Preço de Compra'] * df['Margem']\n",
    "\n",
    "# formatar os preços\n",
    "df['Preço de Compra'], df['Preço de Venda'] = df['Preço de Compra'].map('R${:.2f}'.format), df['Preço de Venda'].map('R${:.2f}'.format)\n",
    "df['Cotação'] = df['Cotação'].map('R${:.2f}'.format)\n",
    "\n",
    "df"
   ]
  },
  {
   "cell_type": "code",
   "execution_count": null,
   "metadata": {
    "collapsed": false
   },
   "outputs": [],
   "source": [
    "# passo 3: exportar a base de dados\n",
    "df.to_excel('Produtos Novo.xlsx', index=False)   # nome do arquivo a ser criado | index=false para não exportar o index junto"
   ]
  },
  {
   "cell_type": "code",
   "execution_count": null,
   "metadata": {
    "collapsed": false
   },
   "outputs": [],
   "source": [
    "df_novo = pd.read_excel('Produtos Novo.xlsx')\n",
    "df_novo"
   ]
  }
 ],
 "metadata": {
  "kernelspec": {
   "display_name": ".venv",
   "language": "python",
   "name": "python3"
  },
  "language_info": {
   "codemirror_mode": {
    "name": "ipython",
    "version": 2
   },
   "file_extension": ".py",
   "mimetype": "text/x-python",
   "name": "python",
   "nbconvert_exporter": "python",
   "pygments_lexer": "ipython2",
   "version": "3.11.1 (tags/v3.11.1:a7a450f, Dec  6 2022, 19:58:39) [MSC v.1934 64 bit (AMD64)]"
  },
  "vscode": {
   "interpreter": {
    "hash": "126faa9b3fc3cbfb9a309dd72d25d819da270b96bd137ecc511e963da2eeeef9"
   }
  }
 },
 "nbformat": 4,
 "nbformat_minor": 0
}
